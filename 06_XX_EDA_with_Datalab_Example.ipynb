{
 "cells": [
  {
   "cell_type": "markdown",
   "metadata": {
    "deletable": true,
    "editable": true
   },
   "source": [
    "<center><h1><font color='green'>EDA with Datalab - Example </font></h1></center>\n"
   ]
  },
  {
   "cell_type": "markdown",
   "metadata": {
    "deletable": true,
    "editable": true
   },
   "source": [
    "<h2>06_01.Loading Data into Dataframe</h2>"
   ]
  },
  {
   "cell_type": "code",
   "execution_count": 59,
   "metadata": {
    "collapsed": false,
    "deletable": true,
    "editable": true
   },
   "outputs": [
    {
     "name": "stdout",
     "output_type": "stream",
     "text": [
      "Data type :\n"
     ]
    },
    {
     "data": {
      "text/plain": [
       "OFFER_DATE     object\n",
       "OFFER_WEEK     object\n",
       "OFFER_MONTH    object\n",
       "PRODUCT        object\n",
       "PRICE           int64\n",
       "DISCOUNT        int64\n",
       "CUSTOMER_ID    object\n",
       "GENDER         object\n",
       "AGE            object\n",
       "EARNING_K      object\n",
       "CONVERT         int64\n",
       "dtype: object"
      ]
     },
     "execution_count": 59,
     "metadata": {},
     "output_type": "execute_result"
    }
   ],
   "source": [
    "#import BigQuery library\n",
    "import google.datalab.bigquery as bq\n",
    "\n",
    "#create a query object\n",
    "campaign_query = bq.Query('SELECT * FROM EDA.campaigns')\n",
    "\n",
    "#Execute the query and create a results object\n",
    "output_options = bq.QueryOutput.table(use_cache=False)\n",
    "raw_records = campaign_query.execute(output_options=output_options).result()\n",
    "\n",
    "#Convert the results objects to a dataframe\n",
    "source_df = raw_records.to_dataframe()\n",
    "print('Data type :')\n",
    "source_df.dtypes\n"
   ]
  },
  {
   "cell_type": "code",
   "execution_count": 60,
   "metadata": {
    "collapsed": false,
    "deletable": true,
    "editable": true
   },
   "outputs": [
    {
     "name": "stdout",
     "output_type": "stream",
     "text": [
      "Source Data :\n"
     ]
    },
    {
     "data": {
      "text/html": [
       "<div>\n",
       "<style scoped>\n",
       "    .dataframe tbody tr th:only-of-type {\n",
       "        vertical-align: middle;\n",
       "    }\n",
       "\n",
       "    .dataframe tbody tr th {\n",
       "        vertical-align: top;\n",
       "    }\n",
       "\n",
       "    .dataframe thead th {\n",
       "        text-align: right;\n",
       "    }\n",
       "</style>\n",
       "<table border=\"1\" class=\"dataframe\">\n",
       "  <thead>\n",
       "    <tr style=\"text-align: right;\">\n",
       "      <th></th>\n",
       "      <th>OFFER_DATE</th>\n",
       "      <th>OFFER_WEEK</th>\n",
       "      <th>OFFER_MONTH</th>\n",
       "      <th>PRODUCT</th>\n",
       "      <th>PRICE</th>\n",
       "      <th>DISCOUNT</th>\n",
       "      <th>CUSTOMER_ID</th>\n",
       "      <th>GENDER</th>\n",
       "      <th>AGE</th>\n",
       "      <th>EARNING_K</th>\n",
       "      <th>CONVERT</th>\n",
       "    </tr>\n",
       "  </thead>\n",
       "  <tbody>\n",
       "    <tr>\n",
       "      <th>0</th>\n",
       "      <td>2017-09-01</td>\n",
       "      <td>Friday</td>\n",
       "      <td>September</td>\n",
       "      <td>HDMI Cable</td>\n",
       "      <td>30</td>\n",
       "      <td>30</td>\n",
       "      <td>83-191-4407</td>\n",
       "      <td>Male</td>\n",
       "      <td>30 - 40</td>\n",
       "      <td>30 - 60</td>\n",
       "      <td>0</td>\n",
       "    </tr>\n",
       "    <tr>\n",
       "      <th>1</th>\n",
       "      <td>2017-09-01</td>\n",
       "      <td>Friday</td>\n",
       "      <td>September</td>\n",
       "      <td>HDMI Cable</td>\n",
       "      <td>30</td>\n",
       "      <td>20</td>\n",
       "      <td>43-121-0232</td>\n",
       "      <td>Male</td>\n",
       "      <td>50 - 60</td>\n",
       "      <td>100 - 150</td>\n",
       "      <td>0</td>\n",
       "    </tr>\n",
       "    <tr>\n",
       "      <th>2</th>\n",
       "      <td>2017-09-08</td>\n",
       "      <td>Friday</td>\n",
       "      <td>September</td>\n",
       "      <td>USB Drive</td>\n",
       "      <td>30</td>\n",
       "      <td>30</td>\n",
       "      <td>57-751-5485</td>\n",
       "      <td>Male</td>\n",
       "      <td>60 and above</td>\n",
       "      <td>LESS THAN 30</td>\n",
       "      <td>0</td>\n",
       "    </tr>\n",
       "    <tr>\n",
       "      <th>3</th>\n",
       "      <td>2017-09-08</td>\n",
       "      <td>Friday</td>\n",
       "      <td>September</td>\n",
       "      <td>USB Hub</td>\n",
       "      <td>30</td>\n",
       "      <td>20</td>\n",
       "      <td>71-350-6940</td>\n",
       "      <td>Male</td>\n",
       "      <td>60 and above</td>\n",
       "      <td>LESS THAN 30</td>\n",
       "      <td>0</td>\n",
       "    </tr>\n",
       "    <tr>\n",
       "      <th>4</th>\n",
       "      <td>2017-01-06</td>\n",
       "      <td>Friday</td>\n",
       "      <td>January</td>\n",
       "      <td>Lightning Cable</td>\n",
       "      <td>30</td>\n",
       "      <td>20</td>\n",
       "      <td>00-825-1813</td>\n",
       "      <td>Male</td>\n",
       "      <td>50 - 60</td>\n",
       "      <td>60 - 100</td>\n",
       "      <td>0</td>\n",
       "    </tr>\n",
       "  </tbody>\n",
       "</table>\n",
       "</div>"
      ],
      "text/plain": [
       "   OFFER_DATE OFFER_WEEK OFFER_MONTH          PRODUCT  PRICE  DISCOUNT  \\\n",
       "0  2017-09-01     Friday   September       HDMI Cable     30        30   \n",
       "1  2017-09-01     Friday   September       HDMI Cable     30        20   \n",
       "2  2017-09-08     Friday   September        USB Drive     30        30   \n",
       "3  2017-09-08     Friday   September          USB Hub     30        20   \n",
       "4  2017-01-06     Friday     January  Lightning Cable     30        20   \n",
       "\n",
       "   CUSTOMER_ID GENDER           AGE     EARNING_K  CONVERT  \n",
       "0  83-191-4407   Male       30 - 40       30 - 60        0  \n",
       "1  43-121-0232   Male       50 - 60     100 - 150        0  \n",
       "2  57-751-5485   Male  60 and above  LESS THAN 30        0  \n",
       "3  71-350-6940   Male  60 and above  LESS THAN 30        0  \n",
       "4  00-825-1813   Male       50 - 60      60 - 100        0  "
      ]
     },
     "execution_count": 60,
     "metadata": {},
     "output_type": "execute_result"
    }
   ],
   "source": [
    "print('Source Data :')\n",
    "source_df.head()"
   ]
  },
  {
   "cell_type": "markdown",
   "metadata": {
    "deletable": true,
    "editable": true
   },
   "source": [
    "<h2>06_02.Cleansing and Transforming Data</h2>"
   ]
  },
  {
   "cell_type": "code",
   "execution_count": 62,
   "metadata": {
    "collapsed": false,
    "deletable": true,
    "editable": true
   },
   "outputs": [
    {
     "data": {
      "text/html": [
       "<div>\n",
       "<style scoped>\n",
       "    .dataframe tbody tr th:only-of-type {\n",
       "        vertical-align: middle;\n",
       "    }\n",
       "\n",
       "    .dataframe tbody tr th {\n",
       "        vertical-align: top;\n",
       "    }\n",
       "\n",
       "    .dataframe thead th {\n",
       "        text-align: right;\n",
       "    }\n",
       "</style>\n",
       "<table border=\"1\" class=\"dataframe\">\n",
       "  <thead>\n",
       "    <tr style=\"text-align: right;\">\n",
       "      <th></th>\n",
       "      <th>OFFER_DATE</th>\n",
       "      <th>OFFER_WEEK</th>\n",
       "      <th>OFFER_MONTH</th>\n",
       "      <th>PRODUCT</th>\n",
       "      <th>PRICE</th>\n",
       "      <th>DISCOUNT</th>\n",
       "      <th>CUSTOMER_ID</th>\n",
       "      <th>GENDER</th>\n",
       "      <th>AGE</th>\n",
       "      <th>EARNING_K</th>\n",
       "      <th>...</th>\n",
       "      <th>Age_20 - 30</th>\n",
       "      <th>Age_30 - 40</th>\n",
       "      <th>Age_40 - 50</th>\n",
       "      <th>Age_50 - 60</th>\n",
       "      <th>Age_60 and above</th>\n",
       "      <th>Discount_20</th>\n",
       "      <th>Discount_30</th>\n",
       "      <th>Discount_40</th>\n",
       "      <th>Discount_50</th>\n",
       "      <th>Discount_60</th>\n",
       "    </tr>\n",
       "  </thead>\n",
       "  <tbody>\n",
       "    <tr>\n",
       "      <th>0</th>\n",
       "      <td>2017-09-01</td>\n",
       "      <td>Friday</td>\n",
       "      <td>September</td>\n",
       "      <td>HDMI Cable</td>\n",
       "      <td>30</td>\n",
       "      <td>30</td>\n",
       "      <td>83-191-4407</td>\n",
       "      <td>Male</td>\n",
       "      <td>30 - 40</td>\n",
       "      <td>30 - 60</td>\n",
       "      <td>...</td>\n",
       "      <td>0</td>\n",
       "      <td>1</td>\n",
       "      <td>0</td>\n",
       "      <td>0</td>\n",
       "      <td>0</td>\n",
       "      <td>0</td>\n",
       "      <td>1</td>\n",
       "      <td>0</td>\n",
       "      <td>0</td>\n",
       "      <td>0</td>\n",
       "    </tr>\n",
       "    <tr>\n",
       "      <th>1</th>\n",
       "      <td>2017-09-01</td>\n",
       "      <td>Friday</td>\n",
       "      <td>September</td>\n",
       "      <td>HDMI Cable</td>\n",
       "      <td>30</td>\n",
       "      <td>20</td>\n",
       "      <td>43-121-0232</td>\n",
       "      <td>Male</td>\n",
       "      <td>50 - 60</td>\n",
       "      <td>100 - 150</td>\n",
       "      <td>...</td>\n",
       "      <td>0</td>\n",
       "      <td>0</td>\n",
       "      <td>0</td>\n",
       "      <td>1</td>\n",
       "      <td>0</td>\n",
       "      <td>1</td>\n",
       "      <td>0</td>\n",
       "      <td>0</td>\n",
       "      <td>0</td>\n",
       "      <td>0</td>\n",
       "    </tr>\n",
       "    <tr>\n",
       "      <th>2</th>\n",
       "      <td>2017-09-08</td>\n",
       "      <td>Friday</td>\n",
       "      <td>September</td>\n",
       "      <td>USB Drive</td>\n",
       "      <td>30</td>\n",
       "      <td>30</td>\n",
       "      <td>57-751-5485</td>\n",
       "      <td>Male</td>\n",
       "      <td>60 and above</td>\n",
       "      <td>LESS THAN 30</td>\n",
       "      <td>...</td>\n",
       "      <td>0</td>\n",
       "      <td>0</td>\n",
       "      <td>0</td>\n",
       "      <td>0</td>\n",
       "      <td>1</td>\n",
       "      <td>0</td>\n",
       "      <td>1</td>\n",
       "      <td>0</td>\n",
       "      <td>0</td>\n",
       "      <td>0</td>\n",
       "    </tr>\n",
       "    <tr>\n",
       "      <th>3</th>\n",
       "      <td>2017-09-08</td>\n",
       "      <td>Friday</td>\n",
       "      <td>September</td>\n",
       "      <td>USB Hub</td>\n",
       "      <td>30</td>\n",
       "      <td>20</td>\n",
       "      <td>71-350-6940</td>\n",
       "      <td>Male</td>\n",
       "      <td>60 and above</td>\n",
       "      <td>LESS THAN 30</td>\n",
       "      <td>...</td>\n",
       "      <td>0</td>\n",
       "      <td>0</td>\n",
       "      <td>0</td>\n",
       "      <td>0</td>\n",
       "      <td>1</td>\n",
       "      <td>1</td>\n",
       "      <td>0</td>\n",
       "      <td>0</td>\n",
       "      <td>0</td>\n",
       "      <td>0</td>\n",
       "    </tr>\n",
       "    <tr>\n",
       "      <th>4</th>\n",
       "      <td>2017-01-06</td>\n",
       "      <td>Friday</td>\n",
       "      <td>January</td>\n",
       "      <td>Lightning Cable</td>\n",
       "      <td>30</td>\n",
       "      <td>20</td>\n",
       "      <td>00-825-1813</td>\n",
       "      <td>Male</td>\n",
       "      <td>50 - 60</td>\n",
       "      <td>60 - 100</td>\n",
       "      <td>...</td>\n",
       "      <td>0</td>\n",
       "      <td>0</td>\n",
       "      <td>0</td>\n",
       "      <td>1</td>\n",
       "      <td>0</td>\n",
       "      <td>1</td>\n",
       "      <td>0</td>\n",
       "      <td>0</td>\n",
       "      <td>0</td>\n",
       "      <td>0</td>\n",
       "    </tr>\n",
       "  </tbody>\n",
       "</table>\n",
       "<p>5 rows × 23 columns</p>\n",
       "</div>"
      ],
      "text/plain": [
       "   OFFER_DATE OFFER_WEEK OFFER_MONTH          PRODUCT  PRICE  DISCOUNT  \\\n",
       "0  2017-09-01     Friday   September       HDMI Cable     30        30   \n",
       "1  2017-09-01     Friday   September       HDMI Cable     30        20   \n",
       "2  2017-09-08     Friday   September        USB Drive     30        30   \n",
       "3  2017-09-08     Friday   September          USB Hub     30        20   \n",
       "4  2017-01-06     Friday     January  Lightning Cable     30        20   \n",
       "\n",
       "   CUSTOMER_ID GENDER           AGE     EARNING_K     ...       Age_20 - 30  \\\n",
       "0  83-191-4407   Male       30 - 40       30 - 60     ...                 0   \n",
       "1  43-121-0232   Male       50 - 60     100 - 150     ...                 0   \n",
       "2  57-751-5485   Male  60 and above  LESS THAN 30     ...                 0   \n",
       "3  71-350-6940   Male  60 and above  LESS THAN 30     ...                 0   \n",
       "4  00-825-1813   Male       50 - 60      60 - 100     ...                 0   \n",
       "\n",
       "   Age_30 - 40  Age_40 - 50  Age_50 - 60  Age_60 and above  Discount_20  \\\n",
       "0            1            0            0                 0            0   \n",
       "1            0            0            1                 0            1   \n",
       "2            0            0            0                 1            0   \n",
       "3            0            0            0                 1            1   \n",
       "4            0            0            1                 0            1   \n",
       "\n",
       "   Discount_30  Discount_40  Discount_50  Discount_60  \n",
       "0            1            0            0            0  \n",
       "1            0            0            0            0  \n",
       "2            1            0            0            0  \n",
       "3            0            0            0            0  \n",
       "4            0            0            0            0  \n",
       "\n",
       "[5 rows x 23 columns]"
      ]
     },
     "execution_count": 62,
     "metadata": {},
     "output_type": "execute_result"
    }
   ],
   "source": [
    "import numpy as np\n",
    "import pandas as pd\n",
    "\n",
    "#Convert Gender and Age into indicator variables\n",
    "source_df = pd.concat([source_df, pd.get_dummies(source_df['GENDER'],prefix='Gender')],axis=1)                        \n",
    "source_df = pd.concat([source_df, pd.get_dummies(source_df['AGE'],prefix='Age')], axis=1)\n",
    "source_df = pd.concat([source_df, pd.get_dummies(source_df['DISCOUNT'],prefix='Discount')], axis=1)\n",
    "\n",
    "source_df.head()\n"
   ]
  },
  {
   "cell_type": "markdown",
   "metadata": {
    "deletable": true,
    "editable": true
   },
   "source": [
    "<h2>06_03.Statistics and Correlations </h2>"
   ]
  },
  {
   "cell_type": "code",
   "execution_count": 63,
   "metadata": {
    "collapsed": false,
    "deletable": true,
    "editable": true
   },
   "outputs": [
    {
     "data": {
      "text/html": [
       "<div>\n",
       "<style scoped>\n",
       "    .dataframe tbody tr th:only-of-type {\n",
       "        vertical-align: middle;\n",
       "    }\n",
       "\n",
       "    .dataframe tbody tr th {\n",
       "        vertical-align: top;\n",
       "    }\n",
       "\n",
       "    .dataframe thead th {\n",
       "        text-align: right;\n",
       "    }\n",
       "</style>\n",
       "<table border=\"1\" class=\"dataframe\">\n",
       "  <thead>\n",
       "    <tr style=\"text-align: right;\">\n",
       "      <th></th>\n",
       "      <th>PRICE</th>\n",
       "      <th>DISCOUNT</th>\n",
       "      <th>CONVERT</th>\n",
       "      <th>Gender_Female</th>\n",
       "      <th>Gender_Male</th>\n",
       "      <th>Age_20 - 30</th>\n",
       "      <th>Age_30 - 40</th>\n",
       "      <th>Age_40 - 50</th>\n",
       "      <th>Age_50 - 60</th>\n",
       "      <th>Age_60 and above</th>\n",
       "      <th>Discount_20</th>\n",
       "      <th>Discount_30</th>\n",
       "      <th>Discount_40</th>\n",
       "      <th>Discount_50</th>\n",
       "      <th>Discount_60</th>\n",
       "    </tr>\n",
       "  </thead>\n",
       "  <tbody>\n",
       "    <tr>\n",
       "      <th>count</th>\n",
       "      <td>5000.000000</td>\n",
       "      <td>5000.000000</td>\n",
       "      <td>5000.000000</td>\n",
       "      <td>5000.000000</td>\n",
       "      <td>5000.000000</td>\n",
       "      <td>5000.00000</td>\n",
       "      <td>5000.000000</td>\n",
       "      <td>5000.00000</td>\n",
       "      <td>5000.000000</td>\n",
       "      <td>5000.000000</td>\n",
       "      <td>5000.000000</td>\n",
       "      <td>5000.000000</td>\n",
       "      <td>5000.000000</td>\n",
       "      <td>5000.000000</td>\n",
       "      <td>5000.000000</td>\n",
       "    </tr>\n",
       "    <tr>\n",
       "      <th>mean</th>\n",
       "      <td>40.080000</td>\n",
       "      <td>39.628000</td>\n",
       "      <td>0.190600</td>\n",
       "      <td>0.516400</td>\n",
       "      <td>0.483600</td>\n",
       "      <td>0.20020</td>\n",
       "      <td>0.198200</td>\n",
       "      <td>0.20020</td>\n",
       "      <td>0.199400</td>\n",
       "      <td>0.202000</td>\n",
       "      <td>0.201800</td>\n",
       "      <td>0.206800</td>\n",
       "      <td>0.205400</td>\n",
       "      <td>0.198800</td>\n",
       "      <td>0.187200</td>\n",
       "    </tr>\n",
       "    <tr>\n",
       "      <th>std</th>\n",
       "      <td>8.222355</td>\n",
       "      <td>14.002172</td>\n",
       "      <td>0.392814</td>\n",
       "      <td>0.499781</td>\n",
       "      <td>0.499781</td>\n",
       "      <td>0.40019</td>\n",
       "      <td>0.398684</td>\n",
       "      <td>0.40019</td>\n",
       "      <td>0.399589</td>\n",
       "      <td>0.401532</td>\n",
       "      <td>0.401384</td>\n",
       "      <td>0.405051</td>\n",
       "      <td>0.404034</td>\n",
       "      <td>0.399137</td>\n",
       "      <td>0.390111</td>\n",
       "    </tr>\n",
       "    <tr>\n",
       "      <th>min</th>\n",
       "      <td>30.000000</td>\n",
       "      <td>20.000000</td>\n",
       "      <td>0.000000</td>\n",
       "      <td>0.000000</td>\n",
       "      <td>0.000000</td>\n",
       "      <td>0.00000</td>\n",
       "      <td>0.000000</td>\n",
       "      <td>0.00000</td>\n",
       "      <td>0.000000</td>\n",
       "      <td>0.000000</td>\n",
       "      <td>0.000000</td>\n",
       "      <td>0.000000</td>\n",
       "      <td>0.000000</td>\n",
       "      <td>0.000000</td>\n",
       "      <td>0.000000</td>\n",
       "    </tr>\n",
       "    <tr>\n",
       "      <th>25%</th>\n",
       "      <td>30.000000</td>\n",
       "      <td>30.000000</td>\n",
       "      <td>0.000000</td>\n",
       "      <td>0.000000</td>\n",
       "      <td>0.000000</td>\n",
       "      <td>0.00000</td>\n",
       "      <td>0.000000</td>\n",
       "      <td>0.00000</td>\n",
       "      <td>0.000000</td>\n",
       "      <td>0.000000</td>\n",
       "      <td>0.000000</td>\n",
       "      <td>0.000000</td>\n",
       "      <td>0.000000</td>\n",
       "      <td>0.000000</td>\n",
       "      <td>0.000000</td>\n",
       "    </tr>\n",
       "    <tr>\n",
       "      <th>50%</th>\n",
       "      <td>40.000000</td>\n",
       "      <td>40.000000</td>\n",
       "      <td>0.000000</td>\n",
       "      <td>1.000000</td>\n",
       "      <td>0.000000</td>\n",
       "      <td>0.00000</td>\n",
       "      <td>0.000000</td>\n",
       "      <td>0.00000</td>\n",
       "      <td>0.000000</td>\n",
       "      <td>0.000000</td>\n",
       "      <td>0.000000</td>\n",
       "      <td>0.000000</td>\n",
       "      <td>0.000000</td>\n",
       "      <td>0.000000</td>\n",
       "      <td>0.000000</td>\n",
       "    </tr>\n",
       "    <tr>\n",
       "      <th>75%</th>\n",
       "      <td>50.000000</td>\n",
       "      <td>50.000000</td>\n",
       "      <td>0.000000</td>\n",
       "      <td>1.000000</td>\n",
       "      <td>1.000000</td>\n",
       "      <td>0.00000</td>\n",
       "      <td>0.000000</td>\n",
       "      <td>0.00000</td>\n",
       "      <td>0.000000</td>\n",
       "      <td>0.000000</td>\n",
       "      <td>0.000000</td>\n",
       "      <td>0.000000</td>\n",
       "      <td>0.000000</td>\n",
       "      <td>0.000000</td>\n",
       "      <td>0.000000</td>\n",
       "    </tr>\n",
       "    <tr>\n",
       "      <th>max</th>\n",
       "      <td>50.000000</td>\n",
       "      <td>60.000000</td>\n",
       "      <td>1.000000</td>\n",
       "      <td>1.000000</td>\n",
       "      <td>1.000000</td>\n",
       "      <td>1.00000</td>\n",
       "      <td>1.000000</td>\n",
       "      <td>1.00000</td>\n",
       "      <td>1.000000</td>\n",
       "      <td>1.000000</td>\n",
       "      <td>1.000000</td>\n",
       "      <td>1.000000</td>\n",
       "      <td>1.000000</td>\n",
       "      <td>1.000000</td>\n",
       "      <td>1.000000</td>\n",
       "    </tr>\n",
       "  </tbody>\n",
       "</table>\n",
       "</div>"
      ],
      "text/plain": [
       "             PRICE     DISCOUNT      CONVERT  Gender_Female  Gender_Male  \\\n",
       "count  5000.000000  5000.000000  5000.000000    5000.000000  5000.000000   \n",
       "mean     40.080000    39.628000     0.190600       0.516400     0.483600   \n",
       "std       8.222355    14.002172     0.392814       0.499781     0.499781   \n",
       "min      30.000000    20.000000     0.000000       0.000000     0.000000   \n",
       "25%      30.000000    30.000000     0.000000       0.000000     0.000000   \n",
       "50%      40.000000    40.000000     0.000000       1.000000     0.000000   \n",
       "75%      50.000000    50.000000     0.000000       1.000000     1.000000   \n",
       "max      50.000000    60.000000     1.000000       1.000000     1.000000   \n",
       "\n",
       "       Age_20 - 30  Age_30 - 40  Age_40 - 50  Age_50 - 60  Age_60 and above  \\\n",
       "count   5000.00000  5000.000000   5000.00000  5000.000000       5000.000000   \n",
       "mean       0.20020     0.198200      0.20020     0.199400          0.202000   \n",
       "std        0.40019     0.398684      0.40019     0.399589          0.401532   \n",
       "min        0.00000     0.000000      0.00000     0.000000          0.000000   \n",
       "25%        0.00000     0.000000      0.00000     0.000000          0.000000   \n",
       "50%        0.00000     0.000000      0.00000     0.000000          0.000000   \n",
       "75%        0.00000     0.000000      0.00000     0.000000          0.000000   \n",
       "max        1.00000     1.000000      1.00000     1.000000          1.000000   \n",
       "\n",
       "       Discount_20  Discount_30  Discount_40  Discount_50  Discount_60  \n",
       "count  5000.000000  5000.000000  5000.000000  5000.000000  5000.000000  \n",
       "mean      0.201800     0.206800     0.205400     0.198800     0.187200  \n",
       "std       0.401384     0.405051     0.404034     0.399137     0.390111  \n",
       "min       0.000000     0.000000     0.000000     0.000000     0.000000  \n",
       "25%       0.000000     0.000000     0.000000     0.000000     0.000000  \n",
       "50%       0.000000     0.000000     0.000000     0.000000     0.000000  \n",
       "75%       0.000000     0.000000     0.000000     0.000000     0.000000  \n",
       "max       1.000000     1.000000     1.000000     1.000000     1.000000  "
      ]
     },
     "execution_count": 63,
     "metadata": {},
     "output_type": "execute_result"
    }
   ],
   "source": [
    "source_df.describe()"
   ]
  },
  {
   "cell_type": "markdown",
   "metadata": {
    "deletable": true,
    "editable": true
   },
   "source": [
    "<h4>Correlations</h4>"
   ]
  },
  {
   "cell_type": "code",
   "execution_count": 64,
   "metadata": {
    "collapsed": false,
    "deletable": true,
    "editable": true
   },
   "outputs": [
    {
     "data": {
      "text/plain": [
       "PRICE              -0.001625\n",
       "DISCOUNT            0.111091\n",
       "CONVERT             1.000000\n",
       "Gender_Female       0.028399\n",
       "Gender_Male        -0.028399\n",
       "Age_20 - 30         0.312034\n",
       "Age_30 - 40         0.085728\n",
       "Age_40 - 50        -0.126985\n",
       "Age_50 - 60        -0.140223\n",
       "Age_60 and above   -0.130005\n",
       "Discount_20        -0.085405\n",
       "Discount_30        -0.021474\n",
       "Discount_40        -0.000941\n",
       "Discount_50         0.021108\n",
       "Discount_60         0.089548\n",
       "Name: CONVERT, dtype: float64"
      ]
     },
     "execution_count": 64,
     "metadata": {},
     "output_type": "execute_result"
    }
   ],
   "source": [
    "source_df.corr()['CONVERT']"
   ]
  },
  {
   "cell_type": "markdown",
   "metadata": {
    "deletable": true,
    "editable": true
   },
   "source": [
    "<h2>06_04.Segmentation and Profiling</h2>"
   ]
  },
  {
   "cell_type": "markdown",
   "metadata": {
    "deletable": true,
    "editable": true
   },
   "source": [
    "<h4>Conversions by Discount Offered</h4>"
   ]
  },
  {
   "cell_type": "code",
   "execution_count": 160,
   "metadata": {
    "collapsed": false,
    "deletable": true,
    "editable": true
   },
   "outputs": [
    {
     "name": "stdout",
     "output_type": "stream",
     "text": [
      "   DISCOUNT  CONVERT  OFFERS  CONV_PERCENT\n",
      "0        20      125    1009         12.39\n",
      "1        30      180    1034         17.41\n",
      "2        40      195    1027         18.99\n",
      "3        50      206     994         20.72\n",
      "4        60      247     936         26.39\n"
     ]
    }
   ],
   "source": [
    "#Aggregate by conversion by offer discount\n",
    "convert_df=source_df.groupby(['DISCOUNT'],as_index=False)['CONVERT'].sum()\n",
    "offer_df=source_df.groupby(['DISCOUNT'],as_index=False)['CONVERT'].count()\n",
    "offer_df.columns=['DISCOUNT','OFFERS']\n",
    "\n",
    "discount_df = pd.concat([convert_df, offer_df['OFFERS']],axis=1)\n",
    "discount_df['CONV_PERCENT'] = discount_df['CONVERT'] / discount_df['OFFERS'] * 100\n",
    "discount_df['CONV_PERCENT'] = np.round(discount_df['CONV_PERCENT'],2)\n",
    "print(discount_df)"
   ]
  },
  {
   "cell_type": "code",
   "execution_count": 145,
   "metadata": {
    "collapsed": false,
    "deletable": true,
    "editable": true
   },
   "outputs": [
    {
     "data": {
      "text/html": [
       "\n",
       "    <div class=\"bqgc-container\">\n",
       "      \n",
       "      <div class=\"bqgc \" id=\"4_153349050982\">\n",
       "      </div>\n",
       "    </div>\n",
       "    <script src=\"/static/components/requirejs/require.js\"></script>\n",
       "    <script>\n",
       "\n",
       "      require.config({\n",
       "        paths: {\n",
       "          base: '/static/base',\n",
       "          d3: '//cdnjs.cloudflare.com/ajax/libs/d3/3.4.13/d3',\n",
       "          plotly: 'https://cdn.plot.ly/plotly-1.5.1.min.js?noext',\n",
       "          jquery: '//ajax.googleapis.com/ajax/libs/jquery/2.0.0/jquery.min'\n",
       "        },\n",
       "        map: {\n",
       "          '*': {\n",
       "            datalab: 'nbextensions/gcpdatalab'\n",
       "          }\n",
       "        },\n",
       "        shim: {\n",
       "          plotly: {\n",
       "            deps: ['d3', 'jquery'],\n",
       "            exports: 'plotly'\n",
       "          }\n",
       "        }\n",
       "      });\n",
       "\n",
       "      require(['datalab/charting',\n",
       "               'datalab/element!4_153349050982',\n",
       "               'base/js/events',\n",
       "               'datalab/style!/nbextensions/gcpdatalab/charting.css'\n",
       "              ],\n",
       "        function(charts, dom, events) {\n",
       "          charts.render(\n",
       "              'gcharts',\n",
       "              dom,\n",
       "              events,\n",
       "              'bars',\n",
       "              [],\n",
       "              {\"rows\": [{\"c\": [{\"v\": 20.0}, {\"v\": 12.39}]}, {\"c\": [{\"v\": 30.0}, {\"v\": 17.41}]}, {\"c\": [{\"v\": 40.0}, {\"v\": 18.99}]}, {\"c\": [{\"v\": 50.0}, {\"v\": 20.72}]}, {\"c\": [{\"v\": 60.0}, {\"v\": 26.39}]}], \"cols\": [{\"type\": \"number\", \"id\": \"DISCOUNT\", \"label\": \"DISCOUNT\"}, {\"type\": \"number\", \"id\": \"CONV_PERCENT\", \"label\": \"CONV_PERCENT\"}]},\n",
       "              {\"height\": 500},\n",
       "              {\"fields\": \"DISCOUNT,CONV_PERCENT\", \"source_index\": 0, \"name\": 0},\n",
       "              0,\n",
       "              5);\n",
       "          }\n",
       "        );\n",
       "    </script>\n",
       "  "
      ],
      "text/plain": [
       "<IPython.core.display.HTML object>"
      ]
     },
     "execution_count": 145,
     "metadata": {},
     "output_type": "execute_result"
    },
    {
     "data": {
      "image/png": "[encoded data removed]"
     },
     "metadata": {
      "source_id": "4_153349050982"
     },
     "output_type": "display_data"
    }
   ],
   "source": [
    "%%chart bars --fields DISCOUNT,CONV_PERCENT --data discount_df\n",
    "height: 500"
   ]
  },
  {
   "cell_type": "markdown",
   "metadata": {
    "deletable": true,
    "editable": true
   },
   "source": [
    "<h2>06_05.Writing results to Cloud Storage</h2>"
   ]
  },
  {
   "cell_type": "code",
   "execution_count": 158,
   "metadata": {
    "collapsed": false,
    "deletable": true,
    "editable": true
   },
   "outputs": [
    {
     "name": "stdout",
     "output_type": "stream",
     "text": [
      ",DISCOUNT,CONVERT,OFFERS,CONV_PERCENT\n",
      "0,20,125,1009,12.39\n",
      "1,30,180,1034,17.41\n",
      "2,40,195,1027,18.99\n",
      "3,50,206,994,20.72\n",
      "4,60,247,936,26.39\n",
      "\n"
     ]
    }
   ],
   "source": [
    "from StringIO import StringIO\n",
    "csvObject = StringIO()\n",
    "discount_df.to_csv(csvObject)\n",
    "csvString = csvObject.getvalue()\n",
    "print(csvString)"
   ]
  },
  {
   "cell_type": "code",
   "execution_count": 159,
   "metadata": {
    "collapsed": false,
    "deletable": true,
    "editable": true
   },
   "outputs": [],
   "source": [
    "%%gcs write --variable csvString --object 'gs://test-kumaran-20180722110291/write_csv.csv'"
   ]
  },
  {
   "cell_type": "code",
   "execution_count": null,
   "metadata": {
    "collapsed": true,
    "deletable": true,
    "editable": true
   },
   "outputs": [],
   "source": []
  }
 ],
 "metadata": {
  "kernelspec": {
   "display_name": "Python 2",
   "language": "python",
   "name": "python2"
  },
  "language_info": {
   "codemirror_mode": {
    "name": "ipython",
    "version": 2
   },
   "file_extension": ".py",
   "mimetype": "text/x-python",
   "name": "python",
   "nbconvert_exporter": "python",
   "pygments_lexer": "ipython2",
   "version": "2.7.15"
  }
 },
 "nbformat": 4,
 "nbformat_minor": 2
}
