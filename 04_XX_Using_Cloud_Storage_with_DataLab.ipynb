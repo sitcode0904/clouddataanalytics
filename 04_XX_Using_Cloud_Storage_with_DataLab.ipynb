{
 "cells": [
  {
   "cell_type": "markdown",
   "metadata": {
    "deletable": true,
    "editable": true
   },
   "source": [
    "<center><h1><font color='green'>Datalab Cloud Storage integration </font></h1></center>\n",
    "<br/>"
   ]
  },
  {
   "cell_type": "markdown",
   "metadata": {
    "deletable": true,
    "editable": true
   },
   "source": [
    "<h2>04_01.Listing Bucket contents</h2>"
   ]
  },
  {
   "cell_type": "markdown",
   "metadata": {
    "deletable": true,
    "editable": true
   },
   "source": [
    "List the buckets in the current project using commands"
   ]
  },
  {
   "cell_type": "code",
   "execution_count": 1,
   "metadata": {
    "collapsed": false,
    "deletable": true,
    "editable": true
   },
   "outputs": [
    {
     "name": "stderr",
     "output_type": "stream",
     "text": [
      "UsageError: Cell magic `%%gcs` not found.\n"
     ]
    }
   ],
   "source": [
    "%%gcs list"
   ]
  },
  {
   "cell_type": "markdown",
   "metadata": {
    "deletable": true,
    "editable": true
   },
   "source": [
    "List the contents of a bucket"
   ]
  },
  {
   "cell_type": "code",
   "execution_count": 6,
   "metadata": {
    "collapsed": false,
    "deletable": true,
    "editable": true
   },
   "outputs": [
    {
     "data": {
      "text/html": [
       "<table><tr><th>Name</th><th>Type</th><th>Size</th><th>Updated</th></tr><tr><td>normal_ranges.csv</td><td>application/vnd.ms-excel</td><td>102</td><td>2018-06-19 21:01:31.315000+00:00</td></tr></table>"
      ],
      "text/plain": [
       "<IPython.core.display.HTML object>"
      ]
     },
     "execution_count": 6,
     "metadata": {},
     "output_type": "execute_result"
    }
   ],
   "source": [
    "%%gcs list --objects gs://patient-2"
   ]
  },
  {
   "cell_type": "markdown",
   "metadata": {
    "deletable": true,
    "editable": true
   },
   "source": [
    "List contents of bucket using the API"
   ]
  },
  {
   "cell_type": "code",
   "execution_count": 16,
   "metadata": {
    "collapsed": false,
    "deletable": true,
    "editable": true
   },
   "outputs": [
    {
     "name": "stdout",
     "output_type": "stream",
     "text": [
      "abc-pipeline-temp/staging/beamapp-user1-0702224757-282030.1530571677.282172/apache_beam-2.5.0-cp27-cp27mu-manylinux1_x86_64.whl size=2205022\n",
      "abc-pipeline-temp/staging/beamapp-user1-0702224757-282030.1530571677.282172/dataflow_python_sdk.tar size=2269390\n",
      "abc-pipeline-temp/staging/beamapp-user1-0702224757-282030.1530571677.282172/pipeline.pb size=14128\n",
      "abc-pipeline-temp/staging/beamapp-user1-0702225328-298966.1530572008.299181/apache_beam-2.5.0-cp27-cp27mu-manylinux1_x86_64.whl size=2205022\n",
      "abc-pipeline-temp/staging/beamapp-user1-0702225328-298966.1530572008.299181/dataflow_python_sdk.tar size=2269390\n",
      "abc-pipeline-temp/staging/beamapp-user1-0702225328-298966.1530572008.299181/pipeline.pb size=14128\n",
      "abc-pipeline-temp/staging/beamapp-user1-0703015635-140478.1530582995.140620/apache_beam-2.5.0-cp27-cp27mu-manylinux1_x86_64.whl size=2205022\n",
      "abc-pipeline-temp/staging/beamapp-user1-0703015635-140478.1530582995.140620/dataflow_python_sdk.tar size=2269390\n",
      "abc-pipeline-temp/staging/beamapp-user1-0703015635-140478.1530582995.140620/pipeline.pb size=14168\n",
      "abc-pipeline-temp/temp/ size=6\n",
      "abc-pipeline-temp/temp/beamapp-user1-0702224757-282030.1530571677.282172/ size=6\n",
      "abc-pipeline-temp/temp/beamapp-user1-0702225328-298966.1530572008.299181/ size=6\n",
      "abc-pipeline-temp/temp/beamapp-user1-0703015635-140478.1530582995.140620/ size=6\n",
      "exercise/ size=0\n",
      "exercise/operations_dataflow.py size=3659\n",
      "exercise/publish_demo.py size=301\n",
      "exercise/publish_to_dataflow.py size=579\n",
      "exercise/pubsub-examples size=20480\n",
      "exercise/simple_pipeline.py size=1002\n",
      "exercise/simple_program.py size=1065\n",
      "exercise/streaming_dataflow.py size=1043\n",
      "exercise/subscribe_demo.py size=431\n",
      "source-data/ size=0\n",
      "source-data/sales_transactions.csv size=2718\n"
     ]
    }
   ],
   "source": [
    "import google.datalab.storage as storage\n",
    "\n",
    "#Create an object for the specific bucket\n",
    "bucket_object = storage.Bucket('course-prep')\n",
    "\n",
    "#iterate through the objects and print them\n",
    "for obj in bucket_object.objects():\n",
    "  if obj.key.find('backups') < 0:\n",
    "    print(obj.key + \" size=\" + str(obj.metadata.size))\n",
    "    "
   ]
  },
  {
   "cell_type": "markdown",
   "metadata": {
    "deletable": true,
    "editable": true
   },
   "source": [
    "<h2>04_02.Managing Buckets </h2>"
   ]
  },
  {
   "cell_type": "markdown",
   "metadata": {
    "deletable": true,
    "editable": true
   },
   "source": [
    "<h2>Creating a bucket </h2>\n",
    "\n",
    "Create using command"
   ]
  },
  {
   "cell_type": "code",
   "execution_count": 8,
   "metadata": {
    "collapsed": false,
    "deletable": true,
    "editable": true
   },
   "outputs": [],
   "source": [
    "%%gcs create --bucket 'gs://test-kumaran-20180722110291'"
   ]
  },
  {
   "cell_type": "markdown",
   "metadata": {
    "deletable": true,
    "editable": true
   },
   "source": [
    "Create using code\n"
   ]
  },
  {
   "cell_type": "code",
   "execution_count": 9,
   "metadata": {
    "collapsed": false,
    "deletable": true,
    "editable": true
   },
   "outputs": [
    {
     "data": {
      "text/plain": [
       "True"
      ]
     },
     "execution_count": 9,
     "metadata": {},
     "output_type": "execute_result"
    }
   ],
   "source": [
    "api_bucket= storage.Bucket('test-kumaran-api-20180722110291')\n",
    "api_bucket.create()\n",
    "api_bucket.exists()"
   ]
  },
  {
   "cell_type": "code",
   "execution_count": 10,
   "metadata": {
    "collapsed": false,
    "deletable": true,
    "editable": true
   },
   "outputs": [
    {
     "data": {
      "text/html": [
       "<table><tr><th>Bucket</th><th>Created</th></tr><tr><td>gs://abc-pipeline-temp</td><td>2018-07-02 20:24:47.257000+00:00</td></tr><tr><td>gs://course-prep</td><td>2018-05-27 18:07:10.823000+00:00</td></tr><tr><td>gs://patient-2</td><td>2018-06-19 20:58:52.092000+00:00</td></tr><tr><td>gs://patient-data</td><td>2018-06-17 15:12:46.258000+00:00</td></tr><tr><td>gs://test-kumaran-20180722110291</td><td>2018-07-22 18:06:32.652000+00:00</td></tr><tr><td>gs://test-kumaran-api-20180722110291</td><td>2018-07-22 18:09:09.288000+00:00</td></tr></table>"
      ],
      "text/plain": [
       "<IPython.core.display.HTML object>"
      ]
     },
     "execution_count": 10,
     "metadata": {},
     "output_type": "execute_result"
    }
   ],
   "source": [
    "%%gcs list"
   ]
  },
  {
   "cell_type": "markdown",
   "metadata": {
    "deletable": true,
    "editable": true
   },
   "source": [
    "<h2>04_03.Reading Objects from bucket</h2>\n",
    "\n",
    "Reading using command"
   ]
  },
  {
   "cell_type": "code",
   "execution_count": 2,
   "metadata": {
    "collapsed": false,
    "deletable": true,
    "editable": true
   },
   "outputs": [],
   "source": [
    "%%gcs read --object 'gs://course-prep/exercise/simple_pipeline.py' --variable bucket_data"
   ]
  },
  {
   "cell_type": "code",
   "execution_count": 6,
   "metadata": {
    "collapsed": false,
    "deletable": true,
    "editable": true
   },
   "outputs": [
    {
     "name": "stdout",
     "output_type": "stream",
     "text": [
      "Type of bucket_data is : <type 'str'>\n",
      "\n",
      "#import print library\n",
      "import logging\n",
      "\n",
      "#import apache beam library\n",
      "import apache_beam as beam\n",
      "\n",
      "#import pipeline options.\n",
      "from apache_beam.options.pipeline_options import  PipelineOptions\n",
      "\n",
      "#Set log level to info\n",
      "root = logging.getLogger()\n",
      "root.setLevel(logging.INFO)\n",
      "\n",
      "#Create a pipeline\n",
      "p = beam.Pipeline(options=PipelineOptions())\n",
      "\n",
      "#Create a PCollections from an in-memory list\n",
      "lines = ( \n",
      "        p \n",
      "\t| 'Create Sample' \n",
      "                >> beam.Create(\n",
      "\t\t\t['training exercise',\n",
      "\t\t\t'simple exercise',\n",
      "\t\t\t'good training'])\n",
      "       )\n",
      "\n",
      "#Count words using a pipeline and create a result PCollection\t\t\t\t\n",
      "linecount = (\n",
      "        lines\n",
      "        | 'Count Lines' \n",
      "                >> beam.CombineGlobally(beam.combiners.CountCombineFn())\n",
      "    )\n",
      "\n",
      "#Print     \n",
      "\n",
      "( linecount \n",
      "    |  'Printing to log'  \n",
      "        >> beam.ParDo(lambda (c): logging.info('-*-*-*\\n\\n     Total Lines: %s \\n____________________' , c)))\n",
      "\n",
      "# Run the pipeline\n",
      "result = p.run()\n",
      "\n",
      "#  wait until pipeline processing is complete\n",
      "result.wait_until_finish()\n",
      "\n"
     ]
    }
   ],
   "source": [
    "print('Type of bucket_data is : ' + str(type(bucket_data)) + \"\\n\")\n",
    "print(bucket_data)"
   ]
  },
  {
   "cell_type": "markdown",
   "metadata": {
    "deletable": true,
    "editable": true
   },
   "source": [
    "Reading using the API"
   ]
  },
  {
   "cell_type": "code",
   "execution_count": 25,
   "metadata": {
    "collapsed": false,
    "deletable": true,
    "editable": true
   },
   "outputs": [
    {
     "name": "stdout",
     "output_type": "stream",
     "text": [
      "#import print library\n",
      "import logging\n",
      "\n",
      "#import apache beam library\n",
      "import apache_beam as beam\n",
      "\n",
      "#import pipeline options.\n",
      "from apache_beam.options.pipeline_options import  PipelineOptions\n",
      "\n",
      "#Set log level to info\n",
      "root = logging.getLogger()\n",
      "root.setLevel(logging.INFO)\n",
      "\n",
      "#Create a pipeline\n",
      "p = beam.Pipeline(options=PipelineOptions())\n",
      "\n",
      "#Create a PCollections from an in-memory list\n",
      "lines = ( \n",
      "        p \n",
      "\t| 'Create Sample' \n",
      "                >> beam.Create(\n",
      "\t\t\t['training exercise',\n",
      "\t\t\t'simple exercise',\n",
      "\t\t\t'good training'])\n",
      "       )\n",
      "\n",
      "#Count words using a pipeline and create a result PCollection\t\t\t\t\n",
      "linecount = (\n",
      "        lines\n",
      "        | 'Count Lines' \n",
      "                >> beam.CombineGlobally(beam.combiners.CountCombineFn())\n",
      "    )\n",
      "\n",
      "#Print     \n",
      "\n",
      "( linecount \n",
      "    |  'Printing to log'  \n",
      "        >> beam.ParDo(lambda (c): logging.info('-*-*-*\\n\\n     Total Lines: %s \\n____________________' , c)))\n",
      "\n",
      "# Run the pipeline\n",
      "result = p.run()\n",
      "\n",
      "#  wait until pipeline processing is complete\n",
      "result.wait_until_finish()\n",
      "\n"
     ]
    }
   ],
   "source": [
    "read_bucket= storage.Bucket('course-prep')\n",
    "\n",
    "read_object=read_bucket.object('exercise/simple_pipeline.py')\n",
    "\n",
    "read_text = read_object.read_stream()\n",
    "print(read_text)"
   ]
  },
  {
   "cell_type": "markdown",
   "metadata": {
    "deletable": true,
    "editable": true
   },
   "source": [
    "<h2>04_04.Writing to buckets</h2>\n",
    "\n",
    "Writing using commands"
   ]
  },
  {
   "cell_type": "code",
   "execution_count": 26,
   "metadata": {
    "collapsed": true,
    "deletable": true,
    "editable": true
   },
   "outputs": [],
   "source": [
    "write_text = 'Testing for GS writes'"
   ]
  },
  {
   "cell_type": "code",
   "execution_count": 28,
   "metadata": {
    "collapsed": true,
    "deletable": true,
    "editable": true
   },
   "outputs": [],
   "source": [
    "%%gcs write --variable write_text --object 'gs://test-kumaran-20180722110291/write_test_command.txt'"
   ]
  },
  {
   "cell_type": "markdown",
   "metadata": {
    "deletable": true,
    "editable": true
   },
   "source": [
    "Writing data using the API"
   ]
  },
  {
   "cell_type": "code",
   "execution_count": 31,
   "metadata": {
    "collapsed": false,
    "deletable": true,
    "editable": true
   },
   "outputs": [],
   "source": [
    "write_bucket = storage.Bucket('test-kumaran-20180722110291')\n",
    "write_object = write_bucket.object('write_test_api.txt')\n",
    "write_object.write_stream(write_text, 'text/plain')"
   ]
  },
  {
   "cell_type": "code",
   "execution_count": null,
   "metadata": {
    "collapsed": true,
    "deletable": true,
    "editable": true
   },
   "outputs": [],
   "source": []
  }
 ],
 "metadata": {
  "kernelspec": {
   "display_name": "Python 3",
   "language": "python",
   "name": "python3"
  },
  "language_info": {
   "codemirror_mode": {
    "name": "ipython",
    "version": 3
   },
   "file_extension": ".py",
   "mimetype": "text/x-python",
   "name": "python",
   "nbconvert_exporter": "python",
   "pygments_lexer": "ipython3",
   "version": "3.12.3"
  }
 },
 "nbformat": 4,
 "nbformat_minor": 2
}
