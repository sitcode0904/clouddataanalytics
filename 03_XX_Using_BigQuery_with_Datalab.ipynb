{
 "cells": [
  {
   "cell_type": "markdown",
   "metadata": {
    "deletable": true,
    "editable": true
   },
   "source": [
    "<center><h1><font color='green'>Datalab BigQuery integration </font></h1></center>\n",
    "<br/>"
   ]
  },
  {
   "cell_type": "markdown",
   "metadata": {
    "deletable": true,
    "editable": true
   },
   "source": [
    "<h2>03_02. Using Big Query Commands </h2>\n"
   ]
  },
  {
   "cell_type": "code",
   "execution_count": 1,
   "metadata": {
    "collapsed": false,
    "deletable": true,
    "editable": true
   },
   "outputs": [
    {
     "name": "stdout",
     "output_type": "stream",
     "text": [
      "usage: %bq [-h]\n",
      "           {datasets,tables,query,execute,extract,sample,dryrun,udf,datasource,load,pipeline}\n",
      "           ...\n",
      "\n",
      "Execute various BigQuery-related operations. Use \"%bq <command> -h\" for help\n",
      "on a specific command.\n",
      "\n",
      "positional arguments:\n",
      "  {datasets,tables,query,execute,extract,sample,dryrun,udf,datasource,load,pipeline}\n",
      "                        commands\n",
      "    datasets            Operations on BigQuery datasets\n",
      "    tables              Operations on BigQuery tables\n",
      "    query               Create or execute a BigQuery SQL query object,\n",
      "                        optionally using other SQL objects, UDFs, or external\n",
      "                        datasources. If a query name is not specified, the\n",
      "                        query is executed.\n",
      "    execute             Execute a BigQuery SQL query and optionally send the\n",
      "                        results to a named table. The cell can optionally\n",
      "                        contain arguments for expanding variables in the\n",
      "                        query.\n",
      "    extract             Extract a query or table into file (local or GCS)\n",
      "    sample              Display a sample of the results of a BigQuery SQL\n",
      "                        query. The cell can optionally contain arguments for\n",
      "                        expanding variables in the query, if -q/--query was\n",
      "                        used, or it can contain SQL for a query.\n",
      "    dryrun              Execute a dry run of a BigQuery query and display\n",
      "                        approximate usage statistics\n",
      "    udf                 Create a named Javascript BigQuery UDF\n",
      "    datasource          Create a named Javascript BigQuery external data\n",
      "                        source\n",
      "    load                Load data from GCS into a BigQuery table. If creating\n",
      "                        a new table, a schema should be specified in YAML or\n",
      "                        JSON in the cell body, otherwise the schema is\n",
      "                        inferred from existing table.\n",
      "    pipeline            Creates a GCS/BigQuery ETL pipeline. The cell-body is\n",
      "                        specified as follows: input: table | path: <BQ table\n",
      "                        name or GCS path; both if path->table load is also\n",
      "                        required> schema: <For syntax, refer '%bq execute'>\n",
      "                        format: {csv (default) | json} csv: <This section is\n",
      "                        relevant only when 'format' is 'csv'> delimiter: <The\n",
      "                        field delimiter to use; default is ','> skip: <Number\n",
      "                        of rows at the top of a CSV file to skip; default is\n",
      "                        0> strict: <{True | False (default)}; whether to\n",
      "                        accept rows with missing trailing (or optional)\n",
      "                        columns> quote: <Value used to quote data sections;\n",
      "                        default is '\"'> mode: <{append (default) | overwrite};\n",
      "                        applicable if path->table load> transformation:\n",
      "                        <optional; when absent, a direct conversion is done\n",
      "                        from input (path|table) to output (table|path)> query:\n",
      "                        <name of BQ query defined via \"%bq query --name ...\">\n",
      "                        output: table | path: <BQ table name or GCS path; both\n",
      "                        if table->path extract is required> mode: <{append |\n",
      "                        overwrite | create (default)}; applicable only when\n",
      "                        table is specified. format: <{csv (default) | json}>\n",
      "                        csv: <This section is relevant only when 'format' is\n",
      "                        'csv'> delimiter: <the field delimiter to use.\n",
      "                        Defaults to ','> header: <{True (default) | False};\n",
      "                        Whether to include an initial header line> compress:\n",
      "                        <{True | False (default) }; Whether to compress the\n",
      "                        data on export> schedule: start: <formatted as\n",
      "                        '%Y-%m-%dT%H:%M:%S'; default is 'now'> end: <formatted\n",
      "                        as '%Y-%m-%dT%H:%M:%S'; default is 'forever'>\n",
      "                        interval: <{@once (default) | @hourly | @daily |\n",
      "                        @weekly | @ monthly | @yearly | <cron ex>}> catchup:\n",
      "                        <{True | False (default)}; when True, backfill is\n",
      "                        performed for start and end times. retries: Number of\n",
      "                        attempts to run the pipeline; default is 0\n",
      "                        retry_delay_seconds: Number of seconds to wait before\n",
      "                        retrying the task emails: <comma separated list of\n",
      "                        emails to notify in case of retries, failures, etc.>\n",
      "                        parameters: <For syntax, refer '%bq execute'>\n",
      "\n",
      "optional arguments:\n",
      "  -h, --help            show this help message and exit\n"
     ]
    }
   ],
   "source": [
    "%%bq --help"
   ]
  },
  {
   "cell_type": "code",
   "execution_count": 4,
   "metadata": {
    "collapsed": false,
    "deletable": true,
    "editable": true
   },
   "outputs": [
    {
     "data": {
      "text/html": [
       "<ul><li>course-prep.EDA.Type1Customers</li><li>course-prep.EDA.campaigns</li><li>course-prep.EDA.website_visits</li><li>course-prep.PatientData.NonSmokerData</li><li>course-prep.PatientData.normal_ranges</li><li>course-prep.PatientData.patient_details</li><li>course-prep.PatientData.test_results</li><li>course-prep.PatientData.test_results_partitioned</li></ul>"
      ],
      "text/plain": [
       "<IPython.core.display.HTML object>"
      ]
     },
     "execution_count": 4,
     "metadata": {},
     "output_type": "execute_result"
    }
   ],
   "source": [
    "%%bq tables list"
   ]
  },
  {
   "cell_type": "markdown",
   "metadata": {
    "deletable": true,
    "editable": true
   },
   "source": [
    "<h2>03_03.Reading data from BigQuery</h2>\n",
    "\n",
    "Big Query queries can be directly executed using the bq command option"
   ]
  },
  {
   "cell_type": "code",
   "execution_count": 1,
   "metadata": {
    "collapsed": false,
    "deletable": true,
    "editable": true
   },
   "outputs": [
    {
     "data": {
      "text/html": [
       "\n",
       "    <div class=\"bqtv\" id=\"1_153227305450\"><table><tr><th>CustomerName</th><th>Gender</th><th>Age</th><th>Salary</th></tr><tr><td>Tiuit,Douglas </td><td>Male</td><td>17</td><td>196</td></tr><tr><td>Cheese,Claiborn </td><td>Male</td><td>17</td><td>101</td></tr><tr><td>Suarez,Clyde </td><td>Male</td><td>17</td><td>80</td></tr><tr><td>Bergen,Jory </td><td>Male</td><td>17</td><td>102</td></tr><tr><td>Itzkovsky,Gus </td><td>Male</td><td>17</td><td>21</td></tr><tr><td>Screeton,Marius </td><td>Male</td><td>17</td><td>164</td></tr><tr><td>Carletto,Franzen </td><td>Male</td><td>17</td><td>155</td></tr><tr><td>Oakes,Homer </td><td>Male</td><td>17</td><td>52</td></tr><tr><td>Theressa MacDermid</td><td>Female</td><td>17</td><td>150</td></tr><tr><td>Henrie Moyce</td><td>Female</td><td>17</td><td>95</td></tr></table></div>\n",
       "    <br />(rows: 10, time: 0.1s, cached, job: job_Iv2XPJVcB-VmiJta7r5hIvpJnkl8)<br />\n",
       "    <script src=\"/static/components/requirejs/require.js\"></script>\n",
       "    <script>\n",
       "      require.config({\n",
       "        paths: {\n",
       "          base: '/static/base',\n",
       "          d3: '//cdnjs.cloudflare.com/ajax/libs/d3/3.4.13/d3',\n",
       "          plotly: 'https://cdn.plot.ly/plotly-1.5.1.min.js?noext',\n",
       "          jquery: '//ajax.googleapis.com/ajax/libs/jquery/2.0.0/jquery.min'\n",
       "        },\n",
       "        map: {\n",
       "          '*': {\n",
       "            datalab: 'nbextensions/gcpdatalab'\n",
       "          }\n",
       "        },\n",
       "        shim: {\n",
       "          plotly: {\n",
       "            deps: ['d3', 'jquery'],\n",
       "            exports: 'plotly'\n",
       "          }\n",
       "        }\n",
       "      });\n",
       "\n",
       "      require(['datalab/charting', 'datalab/element!1_153227305450', 'base/js/events',\n",
       "          'datalab/style!/nbextensions/gcpdatalab/charting.css'],\n",
       "        function(charts, dom, events) {\n",
       "          charts.render('gcharts', dom, events, 'table', [], {\"rows\": [{\"c\": [{\"v\": \"Tiuit,Douglas \"}, {\"v\": \"Male\"}, {\"v\": 17}, {\"v\": 196}]}, {\"c\": [{\"v\": \"Cheese,Claiborn \"}, {\"v\": \"Male\"}, {\"v\": 17}, {\"v\": 101}]}, {\"c\": [{\"v\": \"Suarez,Clyde \"}, {\"v\": \"Male\"}, {\"v\": 17}, {\"v\": 80}]}, {\"c\": [{\"v\": \"Bergen,Jory \"}, {\"v\": \"Male\"}, {\"v\": 17}, {\"v\": 102}]}, {\"c\": [{\"v\": \"Itzkovsky,Gus \"}, {\"v\": \"Male\"}, {\"v\": 17}, {\"v\": 21}]}, {\"c\": [{\"v\": \"Screeton,Marius \"}, {\"v\": \"Male\"}, {\"v\": 17}, {\"v\": 164}]}, {\"c\": [{\"v\": \"Carletto,Franzen \"}, {\"v\": \"Male\"}, {\"v\": 17}, {\"v\": 155}]}, {\"c\": [{\"v\": \"Oakes,Homer \"}, {\"v\": \"Male\"}, {\"v\": 17}, {\"v\": 52}]}, {\"c\": [{\"v\": \"Theressa MacDermid\"}, {\"v\": \"Female\"}, {\"v\": 17}, {\"v\": 150}]}, {\"c\": [{\"v\": \"Henrie Moyce\"}, {\"v\": \"Female\"}, {\"v\": 17}, {\"v\": 95}]}], \"cols\": [{\"type\": \"string\", \"id\": \"CustomerName\", \"label\": \"CustomerName\"}, {\"type\": \"string\", \"id\": \"Gender\", \"label\": \"Gender\"}, {\"type\": \"number\", \"id\": \"Age\", \"label\": \"Age\"}, {\"type\": \"number\", \"id\": \"Salary\", \"label\": \"Salary\"}]},\n",
       "            {\n",
       "              pageSize: 25,\n",
       "              cssClassNames:  {\n",
       "                tableRow: 'gchart-table-row',\n",
       "                headerRow: 'gchart-table-headerrow',\n",
       "                oddTableRow: 'gchart-table-oddrow',\n",
       "                selectedTableRow: 'gchart-table-selectedrow',\n",
       "                hoverTableRow: 'gchart-table-hoverrow',\n",
       "                tableCell: 'gchart-table-cell',\n",
       "                headerCell: 'gchart-table-headercell',\n",
       "                rowNumberCell: 'gchart-table-rownumcell'\n",
       "              }\n",
       "            },\n",
       "            {source_index: 0, fields: 'CustomerName,Gender,Age,Salary'},\n",
       "            0,\n",
       "            10);\n",
       "        }\n",
       "      );\n",
       "    </script>\n",
       "  "
      ],
      "text/plain": [
       "QueryResultsTable job_Iv2XPJVcB-VmiJta7r5hIvpJnkl8"
      ]
     },
     "execution_count": 1,
     "metadata": {},
     "output_type": "execute_result"
    }
   ],
   "source": [
    "%%bq query\n",
    "SELECT CustomerName,Gender,Age,Salary\n",
    "FROM EDA.website_visits \n",
    "WHERE CustomerType=1\n",
    "LIMIT 10"
   ]
  },
  {
   "cell_type": "markdown",
   "metadata": {
    "deletable": true,
    "editable": true
   },
   "source": [
    "<h4>Creating named Queries </h4>"
   ]
  },
  {
   "cell_type": "code",
   "execution_count": 2,
   "metadata": {
    "collapsed": true,
    "deletable": true,
    "editable": true
   },
   "outputs": [],
   "source": [
    "%%bq query --name customer\n",
    "SELECT CustomerName,Gender,Age,Salary\n",
    "FROM EDA.website_visits \n",
    "WHERE CustomerType=1\n",
    "LIMIT 10"
   ]
  },
  {
   "cell_type": "markdown",
   "metadata": {
    "deletable": true,
    "editable": true
   },
   "source": [
    "<h2>03_04.Working with Data Frames <h2>"
   ]
  },
  {
   "cell_type": "markdown",
   "metadata": {
    "deletable": true,
    "editable": true
   },
   "source": [
    "<h4>Reading from a BigQuery table to a DataFrame</h4>"
   ]
  },
  {
   "cell_type": "code",
   "execution_count": 1,
   "metadata": {
    "collapsed": false,
    "deletable": true,
    "editable": true
   },
   "outputs": [
    {
     "name": "stdout",
     "output_type": "stream",
     "text": [
      "         CustomerName  Gender  Age  Salary\n",
      "0      Tiuit,Douglas     Male   17     196\n",
      "1    Cheese,Claiborn     Male   17     101\n",
      "2       Suarez,Clyde     Male   17      80\n",
      "3        Bergen,Jory     Male   17     102\n",
      "4      Itzkovsky,Gus     Male   17      21\n",
      "5    Screeton,Marius     Male   17     164\n",
      "6   Carletto,Franzen     Male   17     155\n",
      "7        Oakes,Homer     Male   17      52\n",
      "8  Theressa MacDermid  Female   17     150\n",
      "9        Henrie Moyce  Female   17      95\n"
     ]
    }
   ],
   "source": [
    "#import BigQuery library\n",
    "import google.datalab.bigquery as bq\n",
    "\n",
    "#create a query object\n",
    "cust_query = bq.Query('SELECT CustomerName,Gender,Age,Salary FROM EDA.website_visits WHERE CustomerType=1 LIMIT 10')\n",
    "\n",
    "#Execute the query and create a results object\n",
    "output_options = bq.QueryOutput.table(use_cache=False)\n",
    "cust_results = cust_query.execute(output_options=output_options).result()\n",
    "\n",
    "#Convert the results objects to a dataframe\n",
    "cust_df = cust_results.to_dataframe()\n",
    "print(cust_df)"
   ]
  },
  {
   "cell_type": "markdown",
   "metadata": {
    "deletable": true,
    "editable": true
   },
   "source": [
    "<h2>03_05.Writing to BigQuery</h2>"
   ]
  },
  {
   "cell_type": "code",
   "execution_count": 2,
   "metadata": {
    "collapsed": false,
    "deletable": true,
    "editable": true
   },
   "outputs": [],
   "source": [
    "#Get schema from existing dataframe\n",
    "schema = bq.Schema.from_data(cust_df)\n",
    "\n",
    "#create table with schema\n",
    "cust_1_table = bq.Table('EDA.Type1Customers').create(schema = schema, overwrite = True)\n"
   ]
  },
  {
   "cell_type": "code",
   "execution_count": 3,
   "metadata": {
    "collapsed": false,
    "deletable": true,
    "editable": true
   },
   "outputs": [
    {
     "data": {
      "text/html": [
       "\n",
       "    <div class=\"bqtv\" id=\"1_153228093222\"><table><tr><th>CustomerName</th><th>Gender</th><th>Age</th><th>Salary</th></tr><tr><td>Bergen,Jory </td><td>Male</td><td>17</td><td>102</td></tr><tr><td>Oakes,Homer </td><td>Male</td><td>17</td><td>52</td></tr><tr><td>Itzkovsky,Gus </td><td>Male</td><td>17</td><td>21</td></tr><tr><td>Suarez,Clyde </td><td>Male</td><td>17</td><td>80</td></tr><tr><td>Tiuit,Douglas </td><td>Male</td><td>17</td><td>196</td></tr><tr><td>Carletto,Franzen </td><td>Male</td><td>17</td><td>155</td></tr><tr><td>Henrie Moyce</td><td>Female</td><td>17</td><td>95</td></tr><tr><td>Cheese,Claiborn </td><td>Male</td><td>17</td><td>101</td></tr><tr><td>Theressa MacDermid</td><td>Female</td><td>17</td><td>150</td></tr><tr><td>Screeton,Marius </td><td>Male</td><td>17</td><td>164</td></tr></table></div>\n",
       "    <br />(rows: 0, course-prep.EDA.Type1Customers)<br />\n",
       "    <script src=\"/static/components/requirejs/require.js\"></script>\n",
       "    <script>\n",
       "      require.config({\n",
       "        paths: {\n",
       "          base: '/static/base',\n",
       "          d3: '//cdnjs.cloudflare.com/ajax/libs/d3/3.4.13/d3',\n",
       "          plotly: 'https://cdn.plot.ly/plotly-1.5.1.min.js?noext',\n",
       "          jquery: '//ajax.googleapis.com/ajax/libs/jquery/2.0.0/jquery.min'\n",
       "        },\n",
       "        map: {\n",
       "          '*': {\n",
       "            datalab: 'nbextensions/gcpdatalab'\n",
       "          }\n",
       "        },\n",
       "        shim: {\n",
       "          plotly: {\n",
       "            deps: ['d3', 'jquery'],\n",
       "            exports: 'plotly'\n",
       "          }\n",
       "        }\n",
       "      });\n",
       "\n",
       "      require(['datalab/charting', 'datalab/element!1_153228093222', 'base/js/events',\n",
       "          'datalab/style!/nbextensions/gcpdatalab/charting.css'],\n",
       "        function(charts, dom, events) {\n",
       "          charts.render('gcharts', dom, events, 'table', [], {\"rows\": [{\"c\": [{\"v\": \"Bergen,Jory \"}, {\"v\": \"Male\"}, {\"v\": 17}, {\"v\": 102}]}, {\"c\": [{\"v\": \"Oakes,Homer \"}, {\"v\": \"Male\"}, {\"v\": 17}, {\"v\": 52}]}, {\"c\": [{\"v\": \"Itzkovsky,Gus \"}, {\"v\": \"Male\"}, {\"v\": 17}, {\"v\": 21}]}, {\"c\": [{\"v\": \"Suarez,Clyde \"}, {\"v\": \"Male\"}, {\"v\": 17}, {\"v\": 80}]}, {\"c\": [{\"v\": \"Tiuit,Douglas \"}, {\"v\": \"Male\"}, {\"v\": 17}, {\"v\": 196}]}, {\"c\": [{\"v\": \"Carletto,Franzen \"}, {\"v\": \"Male\"}, {\"v\": 17}, {\"v\": 155}]}, {\"c\": [{\"v\": \"Henrie Moyce\"}, {\"v\": \"Female\"}, {\"v\": 17}, {\"v\": 95}]}, {\"c\": [{\"v\": \"Cheese,Claiborn \"}, {\"v\": \"Male\"}, {\"v\": 17}, {\"v\": 101}]}, {\"c\": [{\"v\": \"Theressa MacDermid\"}, {\"v\": \"Female\"}, {\"v\": 17}, {\"v\": 150}]}, {\"c\": [{\"v\": \"Screeton,Marius \"}, {\"v\": \"Male\"}, {\"v\": 17}, {\"v\": 164}]}], \"cols\": [{\"type\": \"string\", \"id\": \"CustomerName\", \"label\": \"CustomerName\"}, {\"type\": \"string\", \"id\": \"Gender\", \"label\": \"Gender\"}, {\"type\": \"number\", \"id\": \"Age\", \"label\": \"Age\"}, {\"type\": \"number\", \"id\": \"Salary\", \"label\": \"Salary\"}]},\n",
       "            {\n",
       "              pageSize: 25,\n",
       "              cssClassNames:  {\n",
       "                tableRow: 'gchart-table-row',\n",
       "                headerRow: 'gchart-table-headerrow',\n",
       "                oddTableRow: 'gchart-table-oddrow',\n",
       "                selectedTableRow: 'gchart-table-selectedrow',\n",
       "                hoverTableRow: 'gchart-table-hoverrow',\n",
       "                tableCell: 'gchart-table-cell',\n",
       "                headerCell: 'gchart-table-headercell',\n",
       "                rowNumberCell: 'gchart-table-rownumcell'\n",
       "              }\n",
       "            },\n",
       "            {source_index: 0, fields: 'CustomerName,Gender,Age,Salary'},\n",
       "            0,\n",
       "            0);\n",
       "        }\n",
       "      );\n",
       "    </script>\n",
       "  "
      ],
      "text/plain": [
       "BigQuery Table - name: course-prep.EDA.Type1Customers"
      ]
     },
     "execution_count": 3,
     "metadata": {},
     "output_type": "execute_result"
    }
   ],
   "source": [
    "#insert data into the new table\n",
    "cust_1_table.insert(cust_df)"
   ]
  },
  {
   "cell_type": "code",
   "execution_count": 4,
   "metadata": {
    "collapsed": false,
    "deletable": true,
    "editable": true
   },
   "outputs": [
    {
     "data": {
      "text/html": [
       "\n",
       "    <div class=\"bqtv\" id=\"2_153228094236\"><table><tr><th>CustomerName</th><th>Gender</th><th>Age</th><th>Salary</th></tr><tr><td>Bergen,Jory </td><td>Male</td><td>17</td><td>102</td></tr><tr><td>Oakes,Homer </td><td>Male</td><td>17</td><td>52</td></tr><tr><td>Itzkovsky,Gus </td><td>Male</td><td>17</td><td>21</td></tr><tr><td>Suarez,Clyde </td><td>Male</td><td>17</td><td>80</td></tr><tr><td>Tiuit,Douglas </td><td>Male</td><td>17</td><td>196</td></tr><tr><td>Carletto,Franzen </td><td>Male</td><td>17</td><td>155</td></tr><tr><td>Cheese,Claiborn </td><td>Male</td><td>17</td><td>101</td></tr><tr><td>Screeton,Marius </td><td>Male</td><td>17</td><td>164</td></tr><tr><td>Henrie Moyce</td><td>Female</td><td>17</td><td>95</td></tr><tr><td>Theressa MacDermid</td><td>Female</td><td>17</td><td>150</td></tr></table></div>\n",
       "    <br />(rows: 10, time: 1.2s,     0B processed, job: job_AnLlHwJBdtzvqLQ12kTULVNQTgi-)<br />\n",
       "    <script src=\"/static/components/requirejs/require.js\"></script>\n",
       "    <script>\n",
       "      require.config({\n",
       "        paths: {\n",
       "          base: '/static/base',\n",
       "          d3: '//cdnjs.cloudflare.com/ajax/libs/d3/3.4.13/d3',\n",
       "          plotly: 'https://cdn.plot.ly/plotly-1.5.1.min.js?noext',\n",
       "          jquery: '//ajax.googleapis.com/ajax/libs/jquery/2.0.0/jquery.min'\n",
       "        },\n",
       "        map: {\n",
       "          '*': {\n",
       "            datalab: 'nbextensions/gcpdatalab'\n",
       "          }\n",
       "        },\n",
       "        shim: {\n",
       "          plotly: {\n",
       "            deps: ['d3', 'jquery'],\n",
       "            exports: 'plotly'\n",
       "          }\n",
       "        }\n",
       "      });\n",
       "\n",
       "      require(['datalab/charting', 'datalab/element!2_153228094236', 'base/js/events',\n",
       "          'datalab/style!/nbextensions/gcpdatalab/charting.css'],\n",
       "        function(charts, dom, events) {\n",
       "          charts.render('gcharts', dom, events, 'table', [], {\"rows\": [{\"c\": [{\"v\": \"Bergen,Jory \"}, {\"v\": \"Male\"}, {\"v\": 17}, {\"v\": 102}]}, {\"c\": [{\"v\": \"Oakes,Homer \"}, {\"v\": \"Male\"}, {\"v\": 17}, {\"v\": 52}]}, {\"c\": [{\"v\": \"Itzkovsky,Gus \"}, {\"v\": \"Male\"}, {\"v\": 17}, {\"v\": 21}]}, {\"c\": [{\"v\": \"Suarez,Clyde \"}, {\"v\": \"Male\"}, {\"v\": 17}, {\"v\": 80}]}, {\"c\": [{\"v\": \"Tiuit,Douglas \"}, {\"v\": \"Male\"}, {\"v\": 17}, {\"v\": 196}]}, {\"c\": [{\"v\": \"Carletto,Franzen \"}, {\"v\": \"Male\"}, {\"v\": 17}, {\"v\": 155}]}, {\"c\": [{\"v\": \"Cheese,Claiborn \"}, {\"v\": \"Male\"}, {\"v\": 17}, {\"v\": 101}]}, {\"c\": [{\"v\": \"Screeton,Marius \"}, {\"v\": \"Male\"}, {\"v\": 17}, {\"v\": 164}]}, {\"c\": [{\"v\": \"Henrie Moyce\"}, {\"v\": \"Female\"}, {\"v\": 17}, {\"v\": 95}]}, {\"c\": [{\"v\": \"Theressa MacDermid\"}, {\"v\": \"Female\"}, {\"v\": 17}, {\"v\": 150}]}], \"cols\": [{\"type\": \"string\", \"id\": \"CustomerName\", \"label\": \"CustomerName\"}, {\"type\": \"string\", \"id\": \"Gender\", \"label\": \"Gender\"}, {\"type\": \"number\", \"id\": \"Age\", \"label\": \"Age\"}, {\"type\": \"number\", \"id\": \"Salary\", \"label\": \"Salary\"}]},\n",
       "            {\n",
       "              pageSize: 25,\n",
       "              cssClassNames:  {\n",
       "                tableRow: 'gchart-table-row',\n",
       "                headerRow: 'gchart-table-headerrow',\n",
       "                oddTableRow: 'gchart-table-oddrow',\n",
       "                selectedTableRow: 'gchart-table-selectedrow',\n",
       "                hoverTableRow: 'gchart-table-hoverrow',\n",
       "                tableCell: 'gchart-table-cell',\n",
       "                headerCell: 'gchart-table-headercell',\n",
       "                rowNumberCell: 'gchart-table-rownumcell'\n",
       "              }\n",
       "            },\n",
       "            {source_index: 1, fields: 'CustomerName,Gender,Age,Salary'},\n",
       "            0,\n",
       "            10);\n",
       "        }\n",
       "      );\n",
       "    </script>\n",
       "  "
      ],
      "text/plain": [
       "QueryResultsTable job_AnLlHwJBdtzvqLQ12kTULVNQTgi-"
      ]
     },
     "execution_count": 4,
     "metadata": {},
     "output_type": "execute_result"
    }
   ],
   "source": [
    "#Query data in the table to see the rows inserted\n",
    "%%bq query \n",
    "SELECT * FROM EDA.Type1Customers"
   ]
  }
 ],
 "metadata": {
  "kernelspec": {
   "display_name": "Python 2",
   "language": "python",
   "name": "python2"
  },
  "language_info": {
   "codemirror_mode": {
    "name": "ipython",
    "version": 2
   },
   "file_extension": ".py",
   "mimetype": "text/x-python",
   "name": "python",
   "nbconvert_exporter": "python",
   "pygments_lexer": "ipython2",
   "version": "2.7.15"
  }
 },
 "nbformat": 4,
 "nbformat_minor": 2
}
